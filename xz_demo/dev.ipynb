{
 "cells": [
  {
   "cell_type": "code",
   "execution_count": 1,
   "metadata": {},
   "outputs": [],
   "source": [
    "import warnings\n",
    "warnings.filterwarnings('ignore')\n",
    "import os\n",
    "import sys\n",
    "\n",
    "from dotenv import load_dotenv\n",
    "load_dotenv()\n",
    "\n",
    "openai_api_key = os.getenv(\"OPENAI_API_KEY\")\n"
   ]
  },
  {
   "cell_type": "code",
   "execution_count": null,
   "metadata": {},
   "outputs": [
    {
     "ename": "",
     "evalue": "",
     "output_type": "error",
     "traceback": [
      "\u001b[1;31mThe kernel failed to start as the Python Environment 'Python 3.10.0' is no longer available. Consider selecting another kernel or refreshing the list of Python Environments."
     ]
    }
   ],
   "source": [
    "from crewai import *"
   ]
  },
  {
   "cell_type": "code",
   "execution_count": 8,
   "metadata": {},
   "outputs": [
    {
     "name": "stdout",
     "output_type": "stream",
     "text": [
      "\u001b[32m\u001b[1mCreating folder xz_demo...\u001b[0m\n",
      "\u001b[36mSelect a provider to set up:\u001b[0m\n",
      "\u001b[36m1. openai\u001b[0m\n",
      "\u001b[36m2. anthropic\u001b[0m\n",
      "\u001b[36m3. gemini\u001b[0m\n",
      "\u001b[36m4. nvidia_nim\u001b[0m\n",
      "\u001b[36m5. groq\u001b[0m\n",
      "\u001b[36m6. ollama\u001b[0m\n",
      "\u001b[36m7. watson\u001b[0m\n",
      "\u001b[36m8. bedrock\u001b[0m\n",
      "\u001b[36m9. azure\u001b[0m\n",
      "\u001b[36m10. cerebras\u001b[0m\n",
      "\u001b[36m11. sambanova\u001b[0m\n",
      "\u001b[36m12. other\u001b[0m\n",
      "\u001b[36mq. Quit\u001b[0m\n",
      "Enter the number of your choice or 'q' to quit: \u001b[36mSelect a model to use for Openai:\u001b[0m\n",
      "\u001b[36m1. gpt-4\u001b[0m\n",
      "\u001b[36m2. gpt-4o\u001b[0m\n",
      "\u001b[36m3. gpt-4o-mini\u001b[0m\n",
      "\u001b[36m4. o1-mini\u001b[0m\n",
      "\u001b[36m5. o1-preview\u001b[0m\n",
      "\u001b[36mq. Quit\u001b[0m\n",
      "Enter the number of your choice or 'q' to quit: Enter your OPENAI API key (press Enter to skip): \u001b[32mAPI keys and model saved to .env file\u001b[0m\n",
      "\u001b[32mSelected model: gpt-4o-mini\u001b[0m\n",
      "\u001b[32m  - Created xz_demo/.gitignore\u001b[0m\n",
      "\u001b[32m  - Created xz_demo/pyproject.toml\u001b[0m\n",
      "\u001b[32m  - Created xz_demo/README.md\u001b[0m\n",
      "\u001b[32m  - Created xz_demo/knowledge/user_preference.txt\u001b[0m\n",
      "\u001b[32m  - Created xz_demo/src/xz_demo/__init__.py\u001b[0m\n",
      "\u001b[32m  - Created xz_demo/src/xz_demo/main.py\u001b[0m\n",
      "\u001b[32m  - Created xz_demo/src/xz_demo/crew.py\u001b[0m\n",
      "\u001b[32m  - Created xz_demo/src/xz_demo/tools/custom_tool.py\u001b[0m\n",
      "\u001b[32m  - Created xz_demo/src/xz_demo/tools/__init__.py\u001b[0m\n",
      "\u001b[32m  - Created xz_demo/src/xz_demo/config/agents.yaml\u001b[0m\n",
      "\u001b[32m  - Created xz_demo/src/xz_demo/config/tasks.yaml\u001b[0m\n",
      "\u001b[32m\u001b[1mCrew xz_demo created successfully!\u001b[0m\n"
     ]
    }
   ],
   "source": [
    "!echo -e \"1\\n3\\n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\" | crewai create crew xz_demo"
   ]
  },
  {
   "cell_type": "code",
   "execution_count": null,
   "metadata": {},
   "outputs": [],
   "source": []
  }
 ],
 "metadata": {
  "kernelspec": {
   "display_name": "venv",
   "language": "python",
   "name": "python3"
  },
  "language_info": {
   "codemirror_mode": {
    "name": "ipython",
    "version": 3
   },
   "file_extension": ".py",
   "mimetype": "text/x-python",
   "name": "python",
   "nbconvert_exporter": "python",
   "pygments_lexer": "ipython3",
   "version": "3.10.0"
  }
 },
 "nbformat": 4,
 "nbformat_minor": 2
}
